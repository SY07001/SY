{
  "nbformat": 4,
  "nbformat_minor": 0,
  "metadata": {
    "colab": {
      "name": "1029.ipynb",
      "provenance": [],
      "collapsed_sections": [],
      "include_colab_link": true
    },
    "kernelspec": {
      "name": "ir",
      "display_name": "R"
    }
  },
  "cells": [
    {
      "cell_type": "markdown",
      "metadata": {
        "id": "view-in-github",
        "colab_type": "text"
      },
      "source": [
        "<a href=\"https://colab.research.google.com/github/SY07001/SY/blob/master/1029.ipynb\" target=\"_parent\"><img src=\"https://colab.research.google.com/assets/colab-badge.svg\" alt=\"Open In Colab\"/></a>"
      ]
    },
    {
      "cell_type": "code",
      "metadata": {
        "id": "3wwBp30TfDj6",
        "outputId": "03485896-f202-490d-8503-69e17a9b5f61",
        "colab": {
          "base_uri": "https://localhost:8080/"
        }
      },
      "source": [
        "install.packages(\"readr\")\n"
      ],
      "execution_count": 3,
      "outputs": [
        {
          "output_type": "stream",
          "text": [
            "Installing package into ‘/usr/local/lib/R/site-library’\n",
            "(as ‘lib’ is unspecified)\n",
            "\n"
          ],
          "name": "stderr"
        }
      ]
    },
    {
      "cell_type": "code",
      "metadata": {
        "id": "vtQeL9HWfTVy",
        "outputId": "3129e8f7-f549-48cb-c6dd-dd1800c58766",
        "colab": {
          "base_uri": "https://localhost:8080/"
        }
      },
      "source": [
        "install.packages(\"ggplot2\")"
      ],
      "execution_count": 4,
      "outputs": [
        {
          "output_type": "stream",
          "text": [
            "Installing package into ‘/usr/local/lib/R/site-library’\n",
            "(as ‘lib’ is unspecified)\n",
            "\n"
          ],
          "name": "stderr"
        }
      ]
    },
    {
      "cell_type": "code",
      "metadata": {
        "id": "dQTFX7CkfgRc"
      },
      "source": [
        "library(readr)"
      ],
      "execution_count": 5,
      "outputs": []
    },
    {
      "cell_type": "code",
      "metadata": {
        "id": "PgG3fLWofi_c"
      },
      "source": [
        "library(ggplot2)"
      ],
      "execution_count": 6,
      "outputs": []
    },
    {
      "cell_type": "code",
      "metadata": {
        "id": "P365D3G-fo8x"
      },
      "source": [
        "studentdataset <- read.csv(\"108_student.csv\")"
      ],
      "execution_count": 7,
      "outputs": []
    },
    {
      "cell_type": "code",
      "metadata": {
        "id": "SVwbXR4UgpN5",
        "outputId": "5f9731a6-f091-4c89-c066-f68d4bb8b106",
        "colab": {
          "base_uri": "https://localhost:8080/"
        }
      },
      "source": [
        "str(studentdataset)"
      ],
      "execution_count": 8,
      "outputs": [
        {
          "output_type": "stream",
          "text": [
            "'data.frame':\t794 obs. of  25 variables:\n",
            " $ 學校代碼   : int  1 1 1 1 2 2 2 2 2 3 ...\n",
            " $ 學校名稱   : chr  \"國立政治大學\" \"國立政治大學\" \"國立政治大學\" \"國立政治大學\" ...\n",
            " $ 日間.進修別: chr  \"D 日\" \"D 日\" \"D 日\" \"N 職\" ...\n",
            " $ 等級別     : chr  \"D 博士\" \"M 碩士\" \"B 學士\" \"M 碩士\" ...\n",
            " $ 總計       : int  995 4023 9585 1787 1656 5190 8500 39 1293 3433 ...\n",
            " $ 男生計     : int  561 1861 3912 929 1211 3221 4658 25 479 2405 ...\n",
            " $ 女生計     : int  434 2162 5673 858 445 1969 3842 14 814 1028 ...\n",
            " $ 一年級男生 : int  90 644 896 298 241 1299 1105 3 191 467 ...\n",
            " $ 一年級女生 : int  85 745 1289 273 85 754 925 2 269 185 ...\n",
            " $ 二年級男生 : int  87 593 906 266 206 1231 1093 20 170 361 ...\n",
            " $ 二年級女生 : int  77 702 1309 233 90 659 843 12 217 179 ...\n",
            " $ 三年級男生 : int  84 372 883 185 179 475 1075 0 35 347 ...\n",
            " $ 三年級女生 : int  74 451 1319 190 64 321 945 0 114 163 ...\n",
            " $ 四年級男生 : int  89 252 882 110 163 209 1123 0 26 355 ...\n",
            " $ 四年級女生 : int  53 264 1333 96 60 211 975 0 92 132 ...\n",
            " $ 五年級男生 : int  70 0 0 70 140 3 0 0 23 292 ...\n",
            " $ 五年級女生 : int  48 0 0 66 43 14 0 0 43 130 ...\n",
            " $ 六年級男生 : int  61 0 0 0 122 4 0 0 9 240 ...\n",
            " $ 六年級女生 : int  55 0 0 0 44 10 0 0 29 105 ...\n",
            " $ 七年級男生 : int  80 0 0 0 160 0 0 0 25 343 ...\n",
            " $ 七年級女生 : int  42 0 0 0 59 0 0 0 50 134 ...\n",
            " $ 延修生男生 : int  0 0 345 0 0 0 262 2 0 0 ...\n",
            " $ 延修生女生 : int  0 0 423 0 0 0 154 0 0 0 ...\n",
            " $ 縣市名稱   : chr  \"30 臺北市\" \"30 臺北市\" \"30 臺北市\" \"30 臺北市\" ...\n",
            " $ 體系別     : chr  \"1 一般\" \"1 一般\" \"1 一般\" \"1 一般\" ...\n"
          ],
          "name": "stdout"
        }
      ]
    },
    {
      "cell_type": "code",
      "metadata": {
        "id": "7N4RmYLVgwkq",
        "outputId": "e3d42fcb-063d-494e-df48-7a6ff41fb227",
        "colab": {
          "base_uri": "https://localhost:8080/",
          "height": 437
        }
      },
      "source": [
        "ggplot(studentdataset, aes(x = 體系別,y = 總計)) +geom_point()"
      ],
      "execution_count": 9,
      "outputs": [
        {
          "output_type": "display_data",
          "data": {
            "image/png": "[encoded data removed]",
            "text/plain": [
              "plot without title"
            ]
          },
          "metadata": {
            "tags": [],
            "image/png": {
              "width": 420,
              "height": 420
            }
          }
        }
      ]
    },
    {
      "cell_type": "code",
      "metadata": {
        "id": "TfyjiATQhbaW",
        "outputId": "81fab034-cd55-4fb2-c241-6d28aa36d48f",
        "colab": {
          "base_uri": "https://localhost:8080/"
        }
      },
      "source": [
        "install.packages(\"showtext\")"
      ],
      "execution_count": 10,
      "outputs": [
        {
          "output_type": "stream",
          "text": [
            "Installing package into ‘/usr/local/lib/R/site-library’\n",
            "(as ‘lib’ is unspecified)\n",
            "\n",
            "also installing the dependencies ‘sysfonts’, ‘showtextdb’\n",
            "\n",
            "\n"
          ],
          "name": "stderr"
        }
      ]
    },
    {
      "cell_type": "code",
      "metadata": {
        "id": "OBA90xc5hj3B",
        "outputId": "18bbd0fd-23bb-462d-ab3e-84bad8894bcf",
        "colab": {
          "base_uri": "https://localhost:8080/"
        }
      },
      "source": [
        "library(showtext)"
      ],
      "execution_count": 11,
      "outputs": [
        {
          "output_type": "stream",
          "text": [
            "Loading required package: sysfonts\n",
            "\n",
            "Loading required package: showtextdb\n",
            "\n"
          ],
          "name": "stderr"
        }
      ]
    },
    {
      "cell_type": "code",
      "metadata": {
        "id": "7CUk4TtWhpUL",
        "outputId": "58e09c83-4176-4896-fff1-b6dd8cbc3228",
        "colab": {
          "base_uri": "https://localhost:8080/"
        }
      },
      "source": [
        "showtext.auto(enable = TRUE)"
      ],
      "execution_count": 12,
      "outputs": [
        {
          "output_type": "stream",
          "text": [
            "'showtext.auto()' is now renamed to 'showtext_auto()'\n",
            "The old version still works, but consider using the new function in future code\n",
            "\n"
          ],
          "name": "stderr"
        }
      ]
    },
    {
      "cell_type": "code",
      "metadata": {
        "id": "6dAJyqwtiUer",
        "outputId": "83eaf846-b6a9-473a-ec9c-151597b2d8c9",
        "colab": {
          "base_uri": "https://localhost:8080/",
          "height": 437
        }
      },
      "source": [
        "ggplot(studentdataset, aes(x = 體系別)) +geom_bar()"
      ],
      "execution_count": 13,
      "outputs": [
        {
          "output_type": "display_data",
          "data": {
            "image/png": "[encoded data removed]",
            "text/plain": [
              "plot without title"
            ]
          },
          "metadata": {
            "tags": [],
            "image/png": {
              "width": 420,
              "height": 420
            }
          }
        }
      ]
    }
  ]
}