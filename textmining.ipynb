{
  "nbformat": 4,
  "nbformat_minor": 0,
  "metadata": {
    "colab": {
      "name": "textmining.ipynb",
      "provenance": [],
      "collapsed_sections": [],
      "include_colab_link": true
    },
    "kernelspec": {
      "name": "ir",
      "display_name": "R"
    }
  },
  "cells": [
    {
      "cell_type": "markdown",
      "metadata": {
        "id": "view-in-github",
        "colab_type": "text"
      },
      "source": [
        "<a href=\"https://colab.research.google.com/github/SY07001/SY/blob/master/textmining.ipynb\" target=\"_parent\"><img src=\"https://colab.research.google.com/assets/colab-badge.svg\" alt=\"Open In Colab\"/></a>"
      ]
    },
    {
      "cell_type": "code",
      "metadata": {
        "id": "2TP-OBssdYgs",
        "outputId": "5794ffd1-f263-45b4-a3ca-037442bdf185",
        "colab": {
          "base_uri": "https://localhost:8080/"
        }
      },
      "source": [
        "install.packages(\"rJava\")"
      ],
      "execution_count": 1,
      "outputs": [
        {
          "output_type": "stream",
          "text": [
            "Installing package into ‘/usr/local/lib/R/site-library’\n",
            "(as ‘lib’ is unspecified)\n",
            "\n"
          ],
          "name": "stderr"
        }
      ]
    },
    {
      "cell_type": "code",
      "metadata": {
        "id": "pfYoksHQdggH",
        "outputId": "b4b2c9d0-3436-4702-996e-556624ed3e05",
        "colab": {
          "base_uri": "https://localhost:8080/"
        }
      },
      "source": [
        "install.packages(\"jiebaR\")"
      ],
      "execution_count": 2,
      "outputs": [
        {
          "output_type": "stream",
          "text": [
            "Installing package into ‘/usr/local/lib/R/site-library’\n",
            "(as ‘lib’ is unspecified)\n",
            "\n",
            "also installing the dependency ‘jiebaRD’\n",
            "\n",
            "\n"
          ],
          "name": "stderr"
        }
      ]
    },
    {
      "cell_type": "code",
      "metadata": {
        "id": "pDz3j0okdq-_",
        "outputId": "c66ae164-00cf-4ad6-92c1-2b5ccc900989",
        "colab": {
          "base_uri": "https://localhost:8080/"
        }
      },
      "source": [
        "install.packages(\"tmcn\")"
      ],
      "execution_count": 3,
      "outputs": [
        {
          "output_type": "stream",
          "text": [
            "Installing package into ‘/usr/local/lib/R/site-library’\n",
            "(as ‘lib’ is unspecified)\n",
            "\n"
          ],
          "name": "stderr"
        }
      ]
    },
    {
      "cell_type": "code",
      "metadata": {
        "id": "BSgi8EWwdyp_",
        "outputId": "c90cda36-053c-4de0-cae1-499d9f4247f8",
        "colab": {
          "base_uri": "https://localhost:8080/"
        }
      },
      "source": [
        "install.packages(\"dplyr\")"
      ],
      "execution_count": 4,
      "outputs": [
        {
          "output_type": "stream",
          "text": [
            "Installing package into ‘/usr/local/lib/R/site-library’\n",
            "(as ‘lib’ is unspecified)\n",
            "\n"
          ],
          "name": "stderr"
        }
      ]
    },
    {
      "cell_type": "code",
      "metadata": {
        "id": "pPiwMj2Qd5io",
        "outputId": "1593ee60-294a-4b9e-be66-609386ef31a3",
        "colab": {
          "base_uri": "https://localhost:8080/"
        }
      },
      "source": [
        "install.packages(\"lubridate\")"
      ],
      "execution_count": 5,
      "outputs": [
        {
          "output_type": "stream",
          "text": [
            "Installing package into ‘/usr/local/lib/R/site-library’\n",
            "(as ‘lib’ is unspecified)\n",
            "\n"
          ],
          "name": "stderr"
        }
      ]
    },
    {
      "cell_type": "code",
      "metadata": {
        "id": "Sz4dnJsrd_V-",
        "outputId": "3ebcb08f-5415-4120-fd8a-cda967d1ebaa",
        "colab": {
          "base_uri": "https://localhost:8080/"
        }
      },
      "source": [
        "install.packages(\"stringr\")"
      ],
      "execution_count": 6,
      "outputs": [
        {
          "output_type": "stream",
          "text": [
            "Installing package into ‘/usr/local/lib/R/site-library’\n",
            "(as ‘lib’ is unspecified)\n",
            "\n"
          ],
          "name": "stderr"
        }
      ]
    },
    {
      "cell_type": "code",
      "metadata": {
        "id": "gnQvviwDeDJn",
        "outputId": "6b1f8124-24a6-4d67-9483-a53d8cf41dc3",
        "colab": {
          "base_uri": "https://localhost:8080/"
        }
      },
      "source": [
        "install.packages(\"wordcloud\")"
      ],
      "execution_count": 7,
      "outputs": [
        {
          "output_type": "stream",
          "text": [
            "Installing package into ‘/usr/local/lib/R/site-library’\n",
            "(as ‘lib’ is unspecified)\n",
            "\n"
          ],
          "name": "stderr"
        }
      ]
    },
    {
      "cell_type": "code",
      "metadata": {
        "id": "0zMyTPDVeHg4",
        "outputId": "eb1aa9a6-0ed8-4e50-bedd-60627a22c28d",
        "colab": {
          "base_uri": "https://localhost:8080/"
        }
      },
      "source": [
        "install.packages(\"Rwordseg\",repos = \"http://R-Forge.R-project.org\")"
      ],
      "execution_count": 10,
      "outputs": [
        {
          "output_type": "stream",
          "text": [
            "Installing package into ‘/usr/local/lib/R/site-library’\n",
            "(as ‘lib’ is unspecified)\n",
            "\n",
            "Warning message:\n",
            "“dependency ‘HMM’ is not available”\n",
            "Warning message in install.packages(\"Rwordseg\", repos = \"http://R-Forge.R-project.org\"):\n",
            "“installation of package ‘Rwordseg’ had non-zero exit status”\n"
          ],
          "name": "stderr"
        }
      ]
    },
    {
      "cell_type": "code",
      "metadata": {
        "id": "uxX9KvvufIam",
        "outputId": "8bc8152b-fb78-4db2-9834-f0be5a983b55",
        "colab": {
          "base_uri": "https://localhost:8080/"
        }
      },
      "source": [
        "library(dplyr)"
      ],
      "execution_count": 11,
      "outputs": [
        {
          "output_type": "stream",
          "text": [
            "\n",
            "Attaching package: ‘dplyr’\n",
            "\n",
            "\n",
            "The following objects are masked from ‘package:stats’:\n",
            "\n",
            "    filter, lag\n",
            "\n",
            "\n",
            "The following objects are masked from ‘package:base’:\n",
            "\n",
            "    intersect, setdiff, setequal, union\n",
            "\n",
            "\n"
          ],
          "name": "stderr"
        }
      ]
    },
    {
      "cell_type": "code",
      "metadata": {
        "id": "uVUO0UtsfMlX",
        "outputId": "587e4124-6a48-4384-a3be-a622de04c997",
        "colab": {
          "base_uri": "https://localhost:8080/"
        }
      },
      "source": [
        "library(lubridate)"
      ],
      "execution_count": 12,
      "outputs": [
        {
          "output_type": "stream",
          "text": [
            "\n",
            "Attaching package: ‘lubridate’\n",
            "\n",
            "\n",
            "The following objects are masked from ‘package:base’:\n",
            "\n",
            "    date, intersect, setdiff, union\n",
            "\n",
            "\n"
          ],
          "name": "stderr"
        }
      ]
    },
    {
      "cell_type": "code",
      "metadata": {
        "id": "gxP0Ve6WfVkg"
      },
      "source": [
        "library(stringr)"
      ],
      "execution_count": 13,
      "outputs": []
    },
    {
      "cell_type": "code",
      "metadata": {
        "id": "fKUmkplKfe-v",
        "outputId": "2096fcb8-063e-4e15-de53-496ac24fadd6",
        "colab": {
          "base_uri": "https://localhost:8080/"
        }
      },
      "source": [
        "library(jiebaR)"
      ],
      "execution_count": 14,
      "outputs": [
        {
          "output_type": "stream",
          "text": [
            "Loading required package: jiebaRD\n",
            "\n"
          ],
          "name": "stderr"
        }
      ]
    },
    {
      "cell_type": "code",
      "metadata": {
        "id": "ksb2bRotfkIQ",
        "outputId": "ab490f23-de91-4eaf-f4b6-b14b96b14f91",
        "colab": {
          "base_uri": "https://localhost:8080/"
        }
      },
      "source": [
        "library(wordcloud)"
      ],
      "execution_count": 15,
      "outputs": [
        {
          "output_type": "stream",
          "text": [
            "Loading required package: RColorBrewer\n",
            "\n"
          ],
          "name": "stderr"
        }
      ]
    },
    {
      "cell_type": "code",
      "metadata": {
        "id": "Y_uMJ5D0foCY"
      },
      "source": [
        "content <- \"嚴重特殊傳染性肺炎疫情持續在全球蔓延，已造成三千多萬感染，死亡數破百萬，歐美醫療體系幾近崩潰，各種動限制對於各國之經濟更有莫之衝擊。然台灣未實規模封鎖動，維持正常上班上課與各種經濟活動，至今無規模疫情爆發，醫療體系也仍能正常提供民眾服務，顯台灣的防疫政策正確有效，獲得世界各國度肯定。國家衛研究院群體健康科學研究所與感染症與疫苗研究所合作，利真實數據與數學模型證實，良好的邊境管控，詳盡的疫情調查，確實的隔離與檢疫，以及民眾遵防疫措施，為台灣抗疫四柱。台灣也對世界各國提供各項協助與經驗分享，期望幫助各國盡快從疫情的陰霾中出。\""
      ],
      "execution_count": 35,
      "outputs": []
    },
    {
      "cell_type": "code",
      "metadata": {
        "id": "FWrILlWLiVBt",
        "outputId": "1805b9d8-46cf-405b-fa4e-bc0bdd2055fe",
        "colab": {
          "base_uri": "https://localhost:8080/",
          "height": 102
        }
      },
      "source": [
        "content"
      ],
      "execution_count": 36,
      "outputs": [
        {
          "output_type": "display_data",
          "data": {
            "text/plain": [
              "[1] \"嚴重特殊傳染性肺炎疫情持續在全球蔓延，已造成三千多萬感染，死亡數破百萬，歐美醫療體系幾近崩潰，各種動限制對於各國之經濟更有莫之衝擊。然台灣未實規模封鎖動，維持正常上班上課與各種經濟活動，至今無規模疫情爆發，醫療體系也仍能正常提供民眾服務，顯台灣的防疫政策正確有效，獲得世界各國度肯定。國家衛研究院群體健康科學研究所與感染症與疫苗研究所合作，利真實數據與數學模型證實，良好的邊境管控，詳盡的疫情調查，確實的隔離與檢疫，以及民眾遵防疫措施，為台灣抗疫四柱。台灣也對世界各國提供各項協助與經驗分享，期望幫助各國盡快從疫情的陰霾中出。\""
            ],
            "text/latex": "'嚴重特殊傳染性肺炎疫情持續在全球蔓延，已造成三千多萬感染，死亡數破百萬，歐美醫療體系幾近崩潰，各種動限制對於各國之經濟更有莫之衝擊。然台灣未實規模封鎖動，維持正常上班上課與各種經濟活動，至今無規模疫情爆發，醫療體系也仍能正常提供民眾服務，顯台灣的防疫政策正確有效，獲得世界各國度肯定。國家衛研究院群體健康科學研究所與感染症與疫苗研究所合作，利真實數據與數學模型證實，良好的邊境管控，詳盡的疫情調查，確實的隔離與檢疫，以及民眾遵防疫措施，為台灣抗疫四柱。台灣也對世界各國提供各項協助與經驗分享，期望幫助各國盡快從疫情的陰霾中出。'",
            "text/markdown": "'嚴重特殊傳染性肺炎疫情持續在全球蔓延，已造成三千多萬感染，死亡數破百萬，歐美醫療體系幾近崩潰，各種動限制對於各國之經濟更有莫之衝擊。然台灣未實規模封鎖動，維持正常上班上課與各種經濟活動，至今無規模疫情爆發，醫療體系也仍能正常提供民眾服務，顯台灣的防疫政策正確有效，獲得世界各國度肯定。國家衛研究院群體健康科學研究所與感染症與疫苗研究所合作，利真實數據與數學模型證實，良好的邊境管控，詳盡的疫情調查，確實的隔離與檢疫，以及民眾遵防疫措施，為台灣抗疫四柱。台灣也對世界各國提供各項協助與經驗分享，期望幫助各國盡快從疫情的陰霾中出。'",
            "text/html": [
              "'嚴重特殊傳染性肺炎疫情持續在全球蔓延，已造成三千多萬感染，死亡數破百萬，歐美醫療體系幾近崩潰，各種動限制對於各國之經濟更有莫之衝擊。然台灣未實規模封鎖動，維持正常上班上課與各種經濟活動，至今無規模疫情爆發，醫療體系也仍能正常提供民眾服務，顯台灣的防疫政策正確有效，獲得世界各國度肯定。國家衛研究院群體健康科學研究所與感染症與疫苗研究所合作，利真實數據與數學模型證實，良好的邊境管控，詳盡的疫情調查，確實的隔離與檢疫，以及民眾遵防疫措施，為台灣抗疫四柱。台灣也對世界各國提供各項協助與經驗分享，期望幫助各國盡快從疫情的陰霾中出。'"
            ]
          },
          "metadata": {
            "tags": []
          }
        }
      ]
    },
    {
      "cell_type": "code",
      "metadata": {
        "id": "so7PqjYvf3Zh"
      },
      "source": [
        "cutter <- worker(bylines= F)"
      ],
      "execution_count": 37,
      "outputs": []
    },
    {
      "cell_type": "code",
      "metadata": {
        "id": "Y8FSP1ajgOoa",
        "outputId": "fa86baa3-5fef-4ef8-9ba2-975a0f456563",
        "colab": {
          "base_uri": "https://localhost:8080/",
          "height": 153
        }
      },
      "source": [
        "cutter[content]"
      ],
      "execution_count": 38,
      "outputs": [
        {
          "output_type": "display_data",
          "data": {
            "text/plain": [
              "  [1] \"嚴重\"     \"特殊\"     \"傳染性\"   \"肺炎\"     \"疫情\"     \"持續\"    \n",
              "  [7] \"在\"       \"全球\"     \"蔓延\"     \"已\"       \"造成\"     \"三千多萬\"\n",
              " [13] \"感染\"     \"死亡數\"   \"破\"       \"百萬\"     \"歐美\"     \"醫療\"    \n",
              " [19] \"體系\"     \"幾近\"     \"崩潰\"     \"各種\"     \"動\"       \"限制\"    \n",
              " [25] \"對於\"     \"各國\"     \"之\"       \"經濟\"     \"更\"       \"有\"      \n",
              " [31] \"莫\"       \"之\"       \"衝擊\"     \"然台灣\"   \"未實\"     \"規模\"    \n",
              " [37] \"封鎖\"     \"動\"       \"維持\"     \"正常\"     \"上班\"     \"上課\"    \n",
              " [43] \"與\"       \"各種\"     \"經濟\"     \"活動\"     \"至今\"     \"無\"      \n",
              " [49] \"規模\"     \"疫情\"     \"爆發\"     \"醫療\"     \"體系\"     \"也\"      \n",
              " [55] \"仍\"       \"能\"       \"正常\"     \"提供\"     \"民眾\"     \"服務\"    \n",
              " [61] \"顯台灣\"   \"的\"       \"防疫\"     \"政策\"     \"正確\"     \"有效\"    \n",
              " [67] \"獲得\"     \"世界\"     \"各國\"     \"度\"       \"肯定\"     \"國家\"    \n",
              " [73] \"衛\"       \"研究院\"   \"群體\"     \"健康\"     \"科學\"     \"研究所\"  \n",
              " [79] \"與\"       \"感染\"     \"症\"       \"與\"       \"疫苗\"     \"研究所\"  \n",
              " [85] \"合作\"     \"利\"       \"真實\"     \"數據\"     \"與\"       \"數學模型\"\n",
              " [91] \"證實\"     \"良好\"     \"的\"       \"邊境\"     \"管控\"     \"詳盡\"    \n",
              " [97] \"的\"       \"疫情\"     \"調查\"     \"確實\"     \"的\"       \"隔離\"    \n",
              "[103] \"與\"       \"檢疫\"     \"以及\"     \"民眾\"     \"遵\"       \"防疫\"    \n",
              "[109] \"措施\"     \"為\"       \"台灣\"     \"抗疫\"     \"四柱\"     \"台灣\"    \n",
              "[115] \"也\"       \"對\"       \"世界\"     \"各國\"     \"提供\"     \"各項\"    \n",
              "[121] \"協助\"     \"與\"       \"經驗\"     \"分享\"     \"期望\"     \"幫助\"    \n",
              "[127] \"各國\"     \"盡快\"     \"從\"       \"疫情\"     \"的\"       \"陰霾\"    \n",
              "[133] \"中出\"    "
            ],
            "text/latex": "\\begin{enumerate*}\n\\item '嚴重'\n\\item '特殊'\n\\item '傳染性'\n\\item '肺炎'\n\\item '疫情'\n\\item '持續'\n\\item '在'\n\\item '全球'\n\\item '蔓延'\n\\item '已'\n\\item '造成'\n\\item '三千多萬'\n\\item '感染'\n\\item '死亡數'\n\\item '破'\n\\item '百萬'\n\\item '歐美'\n\\item '醫療'\n\\item '體系'\n\\item '幾近'\n\\item '崩潰'\n\\item '各種'\n\\item '動'\n\\item '限制'\n\\item '對於'\n\\item '各國'\n\\item '之'\n\\item '經濟'\n\\item '更'\n\\item '有'\n\\item '莫'\n\\item '之'\n\\item '衝擊'\n\\item '然台灣'\n\\item '未實'\n\\item '規模'\n\\item '封鎖'\n\\item '動'\n\\item '維持'\n\\item '正常'\n\\item '上班'\n\\item '上課'\n\\item '與'\n\\item '各種'\n\\item '經濟'\n\\item '活動'\n\\item '至今'\n\\item '無'\n\\item '規模'\n\\item '疫情'\n\\item '爆發'\n\\item '醫療'\n\\item '體系'\n\\item '也'\n\\item '仍'\n\\item '能'\n\\item '正常'\n\\item '提供'\n\\item '民眾'\n\\item '服務'\n\\item '顯台灣'\n\\item '的'\n\\item '防疫'\n\\item '政策'\n\\item '正確'\n\\item '有效'\n\\item '獲得'\n\\item '世界'\n\\item '各國'\n\\item '度'\n\\item '肯定'\n\\item '國家'\n\\item '衛'\n\\item '研究院'\n\\item '群體'\n\\item '健康'\n\\item '科學'\n\\item '研究所'\n\\item '與'\n\\item '感染'\n\\item '症'\n\\item '與'\n\\item '疫苗'\n\\item '研究所'\n\\item '合作'\n\\item '利'\n\\item '真實'\n\\item '數據'\n\\item '與'\n\\item '數學模型'\n\\item '證實'\n\\item '良好'\n\\item '的'\n\\item '邊境'\n\\item '管控'\n\\item '詳盡'\n\\item '的'\n\\item '疫情'\n\\item '調查'\n\\item '確實'\n\\item '的'\n\\item '隔離'\n\\item '與'\n\\item '檢疫'\n\\item '以及'\n\\item '民眾'\n\\item '遵'\n\\item '防疫'\n\\item '措施'\n\\item '為'\n\\item '台灣'\n\\item '抗疫'\n\\item '四柱'\n\\item '台灣'\n\\item '也'\n\\item '對'\n\\item '世界'\n\\item '各國'\n\\item '提供'\n\\item '各項'\n\\item '協助'\n\\item '與'\n\\item '經驗'\n\\item '分享'\n\\item '期望'\n\\item '幫助'\n\\item '各國'\n\\item '盡快'\n\\item '從'\n\\item '疫情'\n\\item '的'\n\\item '陰霾'\n\\item '中出'\n\\end{enumerate*}\n",
            "text/markdown": "1. '嚴重'\n2. '特殊'\n3. '傳染性'\n4. '肺炎'\n5. '疫情'\n6. '持續'\n7. '在'\n8. '全球'\n9. '蔓延'\n10. '已'\n11. '造成'\n12. '三千多萬'\n13. '感染'\n14. '死亡數'\n15. '破'\n16. '百萬'\n17. '歐美'\n18. '醫療'\n19. '體系'\n20. '幾近'\n21. '崩潰'\n22. '各種'\n23. '動'\n24. '限制'\n25. '對於'\n26. '各國'\n27. '之'\n28. '經濟'\n29. '更'\n30. '有'\n31. '莫'\n32. '之'\n33. '衝擊'\n34. '然台灣'\n35. '未實'\n36. '規模'\n37. '封鎖'\n38. '動'\n39. '維持'\n40. '正常'\n41. '上班'\n42. '上課'\n43. '與'\n44. '各種'\n45. '經濟'\n46. '活動'\n47. '至今'\n48. '無'\n49. '規模'\n50. '疫情'\n51. '爆發'\n52. '醫療'\n53. '體系'\n54. '也'\n55. '仍'\n56. '能'\n57. '正常'\n58. '提供'\n59. '民眾'\n60. '服務'\n61. '顯台灣'\n62. '的'\n63. '防疫'\n64. '政策'\n65. '正確'\n66. '有效'\n67. '獲得'\n68. '世界'\n69. '各國'\n70. '度'\n71. '肯定'\n72. '國家'\n73. '衛'\n74. '研究院'\n75. '群體'\n76. '健康'\n77. '科學'\n78. '研究所'\n79. '與'\n80. '感染'\n81. '症'\n82. '與'\n83. '疫苗'\n84. '研究所'\n85. '合作'\n86. '利'\n87. '真實'\n88. '數據'\n89. '與'\n90. '數學模型'\n91. '證實'\n92. '良好'\n93. '的'\n94. '邊境'\n95. '管控'\n96. '詳盡'\n97. '的'\n98. '疫情'\n99. '調查'\n100. '確實'\n101. '的'\n102. '隔離'\n103. '與'\n104. '檢疫'\n105. '以及'\n106. '民眾'\n107. '遵'\n108. '防疫'\n109. '措施'\n110. '為'\n111. '台灣'\n112. '抗疫'\n113. '四柱'\n114. '台灣'\n115. '也'\n116. '對'\n117. '世界'\n118. '各國'\n119. '提供'\n120. '各項'\n121. '協助'\n122. '與'\n123. '經驗'\n124. '分享'\n125. '期望'\n126. '幫助'\n127. '各國'\n128. '盡快'\n129. '從'\n130. '疫情'\n131. '的'\n132. '陰霾'\n133. '中出'\n\n\n",
            "text/html": [
              "<style>\n",
              ".list-inline {list-style: none; margin:0; padding: 0}\n",
              ".list-inline>li {display: inline-block}\n",
              ".list-inline>li:not(:last-child)::after {content: \"\\00b7\"; padding: 0 .5ex}\n",
              "</style>\n",
              "<ol class=list-inline><li>'嚴重'</li><li>'特殊'</li><li>'傳染性'</li><li>'肺炎'</li><li>'疫情'</li><li>'持續'</li><li>'在'</li><li>'全球'</li><li>'蔓延'</li><li>'已'</li><li>'造成'</li><li>'三千多萬'</li><li>'感染'</li><li>'死亡數'</li><li>'破'</li><li>'百萬'</li><li>'歐美'</li><li>'醫療'</li><li>'體系'</li><li>'幾近'</li><li>'崩潰'</li><li>'各種'</li><li>'動'</li><li>'限制'</li><li>'對於'</li><li>'各國'</li><li>'之'</li><li>'經濟'</li><li>'更'</li><li>'有'</li><li>'莫'</li><li>'之'</li><li>'衝擊'</li><li>'然台灣'</li><li>'未實'</li><li>'規模'</li><li>'封鎖'</li><li>'動'</li><li>'維持'</li><li>'正常'</li><li>'上班'</li><li>'上課'</li><li>'與'</li><li>'各種'</li><li>'經濟'</li><li>'活動'</li><li>'至今'</li><li>'無'</li><li>'規模'</li><li>'疫情'</li><li>'爆發'</li><li>'醫療'</li><li>'體系'</li><li>'也'</li><li>'仍'</li><li>'能'</li><li>'正常'</li><li>'提供'</li><li>'民眾'</li><li>'服務'</li><li>'顯台灣'</li><li>'的'</li><li>'防疫'</li><li>'政策'</li><li>'正確'</li><li>'有效'</li><li>'獲得'</li><li>'世界'</li><li>'各國'</li><li>'度'</li><li>'肯定'</li><li>'國家'</li><li>'衛'</li><li>'研究院'</li><li>'群體'</li><li>'健康'</li><li>'科學'</li><li>'研究所'</li><li>'與'</li><li>'感染'</li><li>'症'</li><li>'與'</li><li>'疫苗'</li><li>'研究所'</li><li>'合作'</li><li>'利'</li><li>'真實'</li><li>'數據'</li><li>'與'</li><li>'數學模型'</li><li>'證實'</li><li>'良好'</li><li>'的'</li><li>'邊境'</li><li>'管控'</li><li>'詳盡'</li><li>'的'</li><li>'疫情'</li><li>'調查'</li><li>'確實'</li><li>'的'</li><li>'隔離'</li><li>'與'</li><li>'檢疫'</li><li>'以及'</li><li>'民眾'</li><li>'遵'</li><li>'防疫'</li><li>'措施'</li><li>'為'</li><li>'台灣'</li><li>'抗疫'</li><li>'四柱'</li><li>'台灣'</li><li>'也'</li><li>'對'</li><li>'世界'</li><li>'各國'</li><li>'提供'</li><li>'各項'</li><li>'協助'</li><li>'與'</li><li>'經驗'</li><li>'分享'</li><li>'期望'</li><li>'幫助'</li><li>'各國'</li><li>'盡快'</li><li>'從'</li><li>'疫情'</li><li>'的'</li><li>'陰霾'</li><li>'中出'</li></ol>\n"
            ]
          },
          "metadata": {
            "tags": []
          }
        }
      ]
    },
    {
      "cell_type": "code",
      "metadata": {
        "id": "H6c8qC07jO81"
      },
      "source": [
        ""
      ],
      "execution_count": null,
      "outputs": []
    },
    {
      "cell_type": "code",
      "metadata": {
        "id": "yjxHWapHgZCg"
      },
      "source": [
        "new_words <-c(\"傳染性肺炎\",\"醫療體系\",\"防疫措施\")\n",
        "for(i in 1:length(new_words)) {\n",
        "  new_user_word(cutter,new_words[i])\n",
        "}\n"
      ],
      "execution_count": 45,
      "outputs": []
    },
    {
      "cell_type": "code",
      "metadata": {
        "id": "6QgKNKABjhrw",
        "outputId": "aeddab84-ae23-4cd6-e8e2-a5d2573dbfee",
        "colab": {
          "base_uri": "https://localhost:8080/",
          "height": 85
        }
      },
      "source": [
        "content <-str_remove_all(content,\"[0-9a-zA-Z]+?\")\n",
        "cutter[content]"
      ],
      "execution_count": 46,
      "outputs": [
        {
          "output_type": "display_data",
          "data": {
            "text/plain": [
              "  [1] \"嚴重\"       \"特殊\"       \"傳染性肺炎\" \"疫情\"       \"持續\"      \n",
              "  [6] \"在\"         \"全球\"       \"蔓延\"       \"已\"         \"造成\"      \n",
              " [11] \"三千多萬\"   \"感染\"       \"死亡數\"     \"破\"         \"百萬\"      \n",
              " [16] \"歐美\"       \"醫療體系\"   \"幾近\"       \"崩潰\"       \"各種\"      \n",
              " [21] \"動\"         \"限制\"       \"對於\"       \"各國\"       \"之\"        \n",
              " [26] \"經濟\"       \"更\"         \"有\"         \"莫\"         \"之\"        \n",
              " [31] \"衝擊\"       \"然台灣\"     \"未實\"       \"規模\"       \"封鎖\"      \n",
              " [36] \"動\"         \"維持\"       \"正常\"       \"上班\"       \"上課\"      \n",
              " [41] \"與\"         \"各種\"       \"經濟\"       \"活動\"       \"至今\"      \n",
              " [46] \"無\"         \"規模\"       \"疫情\"       \"爆發\"       \"醫療體系\"  \n",
              " [51] \"也\"         \"仍\"         \"能\"         \"正常\"       \"提供\"      \n",
              " [56] \"民眾\"       \"服務\"       \"顯台灣\"     \"的\"         \"防疫\"      \n",
              " [61] \"政策\"       \"正確\"       \"有效\"       \"獲得\"       \"世界\"      \n",
              " [66] \"各國\"       \"度\"         \"肯定\"       \"國家\"       \"衛\"        \n",
              " [71] \"研究院\"     \"群體\"       \"健康\"       \"科學\"       \"研究所\"    \n",
              " [76] \"與\"         \"感染\"       \"症\"         \"與\"         \"疫苗\"      \n",
              " [81] \"研究所\"     \"合作\"       \"利\"         \"真實\"       \"數據\"      \n",
              " [86] \"與\"         \"數學模型\"   \"證實\"       \"良好\"       \"的\"        \n",
              " [91] \"邊境\"       \"管控\"       \"詳盡\"       \"的\"         \"疫情\"      \n",
              " [96] \"調查\"       \"確實\"       \"的\"         \"隔離\"       \"與\"        \n",
              "[101] \"檢疫\"       \"以及\"       \"民眾\"       \"遵\"         \"防疫措施\"  \n",
              "[106] \"為\"         \"台灣\"       \"抗疫\"       \"四柱\"       \"台灣\"      \n",
              "[111] \"也\"         \"對\"         \"世界\"       \"各國\"       \"提供\"      \n",
              "[116] \"各項\"       \"協助\"       \"與\"         \"經驗\"       \"分享\"      \n",
              "[121] \"期望\"       \"幫助\"       \"各國\"       \"盡快\"       \"從\"        \n",
              "[126] \"疫情\"       \"的\"         \"陰霾\"       \"中出\"      "
            ],
            "text/latex": "\\begin{enumerate*}\n\\item '嚴重'\n\\item '特殊'\n\\item '傳染性肺炎'\n\\item '疫情'\n\\item '持續'\n\\item '在'\n\\item '全球'\n\\item '蔓延'\n\\item '已'\n\\item '造成'\n\\item '三千多萬'\n\\item '感染'\n\\item '死亡數'\n\\item '破'\n\\item '百萬'\n\\item '歐美'\n\\item '醫療體系'\n\\item '幾近'\n\\item '崩潰'\n\\item '各種'\n\\item '動'\n\\item '限制'\n\\item '對於'\n\\item '各國'\n\\item '之'\n\\item '經濟'\n\\item '更'\n\\item '有'\n\\item '莫'\n\\item '之'\n\\item '衝擊'\n\\item '然台灣'\n\\item '未實'\n\\item '規模'\n\\item '封鎖'\n\\item '動'\n\\item '維持'\n\\item '正常'\n\\item '上班'\n\\item '上課'\n\\item '與'\n\\item '各種'\n\\item '經濟'\n\\item '活動'\n\\item '至今'\n\\item '無'\n\\item '規模'\n\\item '疫情'\n\\item '爆發'\n\\item '醫療體系'\n\\item '也'\n\\item '仍'\n\\item '能'\n\\item '正常'\n\\item '提供'\n\\item '民眾'\n\\item '服務'\n\\item '顯台灣'\n\\item '的'\n\\item '防疫'\n\\item '政策'\n\\item '正確'\n\\item '有效'\n\\item '獲得'\n\\item '世界'\n\\item '各國'\n\\item '度'\n\\item '肯定'\n\\item '國家'\n\\item '衛'\n\\item '研究院'\n\\item '群體'\n\\item '健康'\n\\item '科學'\n\\item '研究所'\n\\item '與'\n\\item '感染'\n\\item '症'\n\\item '與'\n\\item '疫苗'\n\\item '研究所'\n\\item '合作'\n\\item '利'\n\\item '真實'\n\\item '數據'\n\\item '與'\n\\item '數學模型'\n\\item '證實'\n\\item '良好'\n\\item '的'\n\\item '邊境'\n\\item '管控'\n\\item '詳盡'\n\\item '的'\n\\item '疫情'\n\\item '調查'\n\\item '確實'\n\\item '的'\n\\item '隔離'\n\\item '與'\n\\item '檢疫'\n\\item '以及'\n\\item '民眾'\n\\item '遵'\n\\item '防疫措施'\n\\item '為'\n\\item '台灣'\n\\item '抗疫'\n\\item '四柱'\n\\item '台灣'\n\\item '也'\n\\item '對'\n\\item '世界'\n\\item '各國'\n\\item '提供'\n\\item '各項'\n\\item '協助'\n\\item '與'\n\\item '經驗'\n\\item '分享'\n\\item '期望'\n\\item '幫助'\n\\item '各國'\n\\item '盡快'\n\\item '從'\n\\item '疫情'\n\\item '的'\n\\item '陰霾'\n\\item '中出'\n\\end{enumerate*}\n",
            "text/markdown": "1. '嚴重'\n2. '特殊'\n3. '傳染性肺炎'\n4. '疫情'\n5. '持續'\n6. '在'\n7. '全球'\n8. '蔓延'\n9. '已'\n10. '造成'\n11. '三千多萬'\n12. '感染'\n13. '死亡數'\n14. '破'\n15. '百萬'\n16. '歐美'\n17. '醫療體系'\n18. '幾近'\n19. '崩潰'\n20. '各種'\n21. '動'\n22. '限制'\n23. '對於'\n24. '各國'\n25. '之'\n26. '經濟'\n27. '更'\n28. '有'\n29. '莫'\n30. '之'\n31. '衝擊'\n32. '然台灣'\n33. '未實'\n34. '規模'\n35. '封鎖'\n36. '動'\n37. '維持'\n38. '正常'\n39. '上班'\n40. '上課'\n41. '與'\n42. '各種'\n43. '經濟'\n44. '活動'\n45. '至今'\n46. '無'\n47. '規模'\n48. '疫情'\n49. '爆發'\n50. '醫療體系'\n51. '也'\n52. '仍'\n53. '能'\n54. '正常'\n55. '提供'\n56. '民眾'\n57. '服務'\n58. '顯台灣'\n59. '的'\n60. '防疫'\n61. '政策'\n62. '正確'\n63. '有效'\n64. '獲得'\n65. '世界'\n66. '各國'\n67. '度'\n68. '肯定'\n69. '國家'\n70. '衛'\n71. '研究院'\n72. '群體'\n73. '健康'\n74. '科學'\n75. '研究所'\n76. '與'\n77. '感染'\n78. '症'\n79. '與'\n80. '疫苗'\n81. '研究所'\n82. '合作'\n83. '利'\n84. '真實'\n85. '數據'\n86. '與'\n87. '數學模型'\n88. '證實'\n89. '良好'\n90. '的'\n91. '邊境'\n92. '管控'\n93. '詳盡'\n94. '的'\n95. '疫情'\n96. '調查'\n97. '確實'\n98. '的'\n99. '隔離'\n100. '與'\n101. '檢疫'\n102. '以及'\n103. '民眾'\n104. '遵'\n105. '防疫措施'\n106. '為'\n107. '台灣'\n108. '抗疫'\n109. '四柱'\n110. '台灣'\n111. '也'\n112. '對'\n113. '世界'\n114. '各國'\n115. '提供'\n116. '各項'\n117. '協助'\n118. '與'\n119. '經驗'\n120. '分享'\n121. '期望'\n122. '幫助'\n123. '各國'\n124. '盡快'\n125. '從'\n126. '疫情'\n127. '的'\n128. '陰霾'\n129. '中出'\n\n\n",
            "text/html": [
              "<style>\n",
              ".list-inline {list-style: none; margin:0; padding: 0}\n",
              ".list-inline>li {display: inline-block}\n",
              ".list-inline>li:not(:last-child)::after {content: \"\\00b7\"; padding: 0 .5ex}\n",
              "</style>\n",
              "<ol class=list-inline><li>'嚴重'</li><li>'特殊'</li><li>'傳染性肺炎'</li><li>'疫情'</li><li>'持續'</li><li>'在'</li><li>'全球'</li><li>'蔓延'</li><li>'已'</li><li>'造成'</li><li>'三千多萬'</li><li>'感染'</li><li>'死亡數'</li><li>'破'</li><li>'百萬'</li><li>'歐美'</li><li>'醫療體系'</li><li>'幾近'</li><li>'崩潰'</li><li>'各種'</li><li>'動'</li><li>'限制'</li><li>'對於'</li><li>'各國'</li><li>'之'</li><li>'經濟'</li><li>'更'</li><li>'有'</li><li>'莫'</li><li>'之'</li><li>'衝擊'</li><li>'然台灣'</li><li>'未實'</li><li>'規模'</li><li>'封鎖'</li><li>'動'</li><li>'維持'</li><li>'正常'</li><li>'上班'</li><li>'上課'</li><li>'與'</li><li>'各種'</li><li>'經濟'</li><li>'活動'</li><li>'至今'</li><li>'無'</li><li>'規模'</li><li>'疫情'</li><li>'爆發'</li><li>'醫療體系'</li><li>'也'</li><li>'仍'</li><li>'能'</li><li>'正常'</li><li>'提供'</li><li>'民眾'</li><li>'服務'</li><li>'顯台灣'</li><li>'的'</li><li>'防疫'</li><li>'政策'</li><li>'正確'</li><li>'有效'</li><li>'獲得'</li><li>'世界'</li><li>'各國'</li><li>'度'</li><li>'肯定'</li><li>'國家'</li><li>'衛'</li><li>'研究院'</li><li>'群體'</li><li>'健康'</li><li>'科學'</li><li>'研究所'</li><li>'與'</li><li>'感染'</li><li>'症'</li><li>'與'</li><li>'疫苗'</li><li>'研究所'</li><li>'合作'</li><li>'利'</li><li>'真實'</li><li>'數據'</li><li>'與'</li><li>'數學模型'</li><li>'證實'</li><li>'良好'</li><li>'的'</li><li>'邊境'</li><li>'管控'</li><li>'詳盡'</li><li>'的'</li><li>'疫情'</li><li>'調查'</li><li>'確實'</li><li>'的'</li><li>'隔離'</li><li>'與'</li><li>'檢疫'</li><li>'以及'</li><li>'民眾'</li><li>'遵'</li><li>'防疫措施'</li><li>'為'</li><li>'台灣'</li><li>'抗疫'</li><li>'四柱'</li><li>'台灣'</li><li>'也'</li><li>'對'</li><li>'世界'</li><li>'各國'</li><li>'提供'</li><li>'各項'</li><li>'協助'</li><li>'與'</li><li>'經驗'</li><li>'分享'</li><li>'期望'</li><li>'幫助'</li><li>'各國'</li><li>'盡快'</li><li>'從'</li><li>'疫情'</li><li>'的'</li><li>'陰霾'</li><li>'中出'</li></ol>\n"
            ]
          },
          "metadata": {
            "tags": []
          }
        }
      ]
    },
    {
      "cell_type": "code",
      "metadata": {
        "id": "jUbi_ODaj_EY"
      },
      "source": [
        "new_words <-c(\"傳染性肺炎\",\"醫療體系\",\"防疫措施\")\n",
        "writeLines(new_words, \"new_words.txt\")"
      ],
      "execution_count": 48,
      "outputs": []
    },
    {
      "cell_type": "code",
      "metadata": {
        "id": "UdiAvM4FkSrg"
      },
      "source": [
        "stop_words <- c(\"也\",\"在\",\"之\",\"更\",\"個\",\"未\",\"而\",\"的\",\"與\")\n",
        "writeLines(stop_words,\"stop_words.txt\")"
      ],
      "execution_count": 62,
      "outputs": []
    },
    {
      "cell_type": "code",
      "metadata": {
        "id": "SddB7yw0lGW7",
        "outputId": "88ad4c5d-b970-4ade-d40e-eafa43cd0fc9",
        "colab": {
          "base_uri": "https://localhost:8080/",
          "height": 68
        }
      },
      "source": [
        "cutter <- worker(user = \"new_words.txt\", stop_word = \"stop_words.txt\",\n",
        "bylines = FALSE)\n",
        "seg_words <- cutter[content]\n",
        "seg_words"
      ],
      "execution_count": 64,
      "outputs": [
        {
          "output_type": "display_data",
          "data": {
            "text/plain": [
              "  [1] \"嚴重\"       \"特殊\"       \"傳染性肺炎\" \"疫情\"       \"持續\"      \n",
              "  [6] \"全球\"       \"蔓延\"       \"已\"         \"造成\"       \"三千多萬\"  \n",
              " [11] \"感染\"       \"死亡數\"     \"破\"         \"百萬\"       \"歐美\"      \n",
              " [16] \"醫療體系\"   \"幾近\"       \"崩潰\"       \"各種\"       \"動\"        \n",
              " [21] \"限制\"       \"對於\"       \"各國\"       \"經濟\"       \"有\"        \n",
              " [26] \"莫\"         \"衝擊\"       \"然台灣\"     \"未實\"       \"規模\"      \n",
              " [31] \"封鎖\"       \"動\"         \"維持\"       \"正常\"       \"上班\"      \n",
              " [36] \"上課\"       \"各種\"       \"經濟\"       \"活動\"       \"至今\"      \n",
              " [41] \"無\"         \"規模\"       \"疫情\"       \"爆發\"       \"醫療體系\"  \n",
              " [46] \"仍\"         \"能\"         \"正常\"       \"提供\"       \"民眾\"      \n",
              " [51] \"服務\"       \"顯台灣\"     \"防疫\"       \"政策\"       \"正確\"      \n",
              " [56] \"有效\"       \"獲得\"       \"世界\"       \"各國\"       \"度\"        \n",
              " [61] \"肯定\"       \"國家\"       \"衛\"         \"研究院\"     \"群體\"      \n",
              " [66] \"健康\"       \"科學\"       \"研究所\"     \"感染\"       \"症\"        \n",
              " [71] \"疫苗\"       \"研究所\"     \"合作\"       \"利\"         \"真實\"      \n",
              " [76] \"數據\"       \"數學模型\"   \"證實\"       \"良好\"       \"邊境\"      \n",
              " [81] \"管控\"       \"詳盡\"       \"疫情\"       \"調查\"       \"確實\"      \n",
              " [86] \"隔離\"       \"檢疫\"       \"以及\"       \"民眾\"       \"遵\"        \n",
              " [91] \"防疫措施\"   \"為\"         \"台灣\"       \"抗疫\"       \"四柱\"      \n",
              " [96] \"台灣\"       \"對\"         \"世界\"       \"各國\"       \"提供\"      \n",
              "[101] \"各項\"       \"協助\"       \"經驗\"       \"分享\"       \"期望\"      \n",
              "[106] \"幫助\"       \"各國\"       \"盡快\"       \"從\"         \"疫情\"      \n",
              "[111] \"陰霾\"       \"中出\"      "
            ],
            "text/latex": "\\begin{enumerate*}\n\\item '嚴重'\n\\item '特殊'\n\\item '傳染性肺炎'\n\\item '疫情'\n\\item '持續'\n\\item '全球'\n\\item '蔓延'\n\\item '已'\n\\item '造成'\n\\item '三千多萬'\n\\item '感染'\n\\item '死亡數'\n\\item '破'\n\\item '百萬'\n\\item '歐美'\n\\item '醫療體系'\n\\item '幾近'\n\\item '崩潰'\n\\item '各種'\n\\item '動'\n\\item '限制'\n\\item '對於'\n\\item '各國'\n\\item '經濟'\n\\item '有'\n\\item '莫'\n\\item '衝擊'\n\\item '然台灣'\n\\item '未實'\n\\item '規模'\n\\item '封鎖'\n\\item '動'\n\\item '維持'\n\\item '正常'\n\\item '上班'\n\\item '上課'\n\\item '各種'\n\\item '經濟'\n\\item '活動'\n\\item '至今'\n\\item '無'\n\\item '規模'\n\\item '疫情'\n\\item '爆發'\n\\item '醫療體系'\n\\item '仍'\n\\item '能'\n\\item '正常'\n\\item '提供'\n\\item '民眾'\n\\item '服務'\n\\item '顯台灣'\n\\item '防疫'\n\\item '政策'\n\\item '正確'\n\\item '有效'\n\\item '獲得'\n\\item '世界'\n\\item '各國'\n\\item '度'\n\\item '肯定'\n\\item '國家'\n\\item '衛'\n\\item '研究院'\n\\item '群體'\n\\item '健康'\n\\item '科學'\n\\item '研究所'\n\\item '感染'\n\\item '症'\n\\item '疫苗'\n\\item '研究所'\n\\item '合作'\n\\item '利'\n\\item '真實'\n\\item '數據'\n\\item '數學模型'\n\\item '證實'\n\\item '良好'\n\\item '邊境'\n\\item '管控'\n\\item '詳盡'\n\\item '疫情'\n\\item '調查'\n\\item '確實'\n\\item '隔離'\n\\item '檢疫'\n\\item '以及'\n\\item '民眾'\n\\item '遵'\n\\item '防疫措施'\n\\item '為'\n\\item '台灣'\n\\item '抗疫'\n\\item '四柱'\n\\item '台灣'\n\\item '對'\n\\item '世界'\n\\item '各國'\n\\item '提供'\n\\item '各項'\n\\item '協助'\n\\item '經驗'\n\\item '分享'\n\\item '期望'\n\\item '幫助'\n\\item '各國'\n\\item '盡快'\n\\item '從'\n\\item '疫情'\n\\item '陰霾'\n\\item '中出'\n\\end{enumerate*}\n",
            "text/markdown": "1. '嚴重'\n2. '特殊'\n3. '傳染性肺炎'\n4. '疫情'\n5. '持續'\n6. '全球'\n7. '蔓延'\n8. '已'\n9. '造成'\n10. '三千多萬'\n11. '感染'\n12. '死亡數'\n13. '破'\n14. '百萬'\n15. '歐美'\n16. '醫療體系'\n17. '幾近'\n18. '崩潰'\n19. '各種'\n20. '動'\n21. '限制'\n22. '對於'\n23. '各國'\n24. '經濟'\n25. '有'\n26. '莫'\n27. '衝擊'\n28. '然台灣'\n29. '未實'\n30. '規模'\n31. '封鎖'\n32. '動'\n33. '維持'\n34. '正常'\n35. '上班'\n36. '上課'\n37. '各種'\n38. '經濟'\n39. '活動'\n40. '至今'\n41. '無'\n42. '規模'\n43. '疫情'\n44. '爆發'\n45. '醫療體系'\n46. '仍'\n47. '能'\n48. '正常'\n49. '提供'\n50. '民眾'\n51. '服務'\n52. '顯台灣'\n53. '防疫'\n54. '政策'\n55. '正確'\n56. '有效'\n57. '獲得'\n58. '世界'\n59. '各國'\n60. '度'\n61. '肯定'\n62. '國家'\n63. '衛'\n64. '研究院'\n65. '群體'\n66. '健康'\n67. '科學'\n68. '研究所'\n69. '感染'\n70. '症'\n71. '疫苗'\n72. '研究所'\n73. '合作'\n74. '利'\n75. '真實'\n76. '數據'\n77. '數學模型'\n78. '證實'\n79. '良好'\n80. '邊境'\n81. '管控'\n82. '詳盡'\n83. '疫情'\n84. '調查'\n85. '確實'\n86. '隔離'\n87. '檢疫'\n88. '以及'\n89. '民眾'\n90. '遵'\n91. '防疫措施'\n92. '為'\n93. '台灣'\n94. '抗疫'\n95. '四柱'\n96. '台灣'\n97. '對'\n98. '世界'\n99. '各國'\n100. '提供'\n101. '各項'\n102. '協助'\n103. '經驗'\n104. '分享'\n105. '期望'\n106. '幫助'\n107. '各國'\n108. '盡快'\n109. '從'\n110. '疫情'\n111. '陰霾'\n112. '中出'\n\n\n",
            "text/html": [
              "<style>\n",
              ".list-inline {list-style: none; margin:0; padding: 0}\n",
              ".list-inline>li {display: inline-block}\n",
              ".list-inline>li:not(:last-child)::after {content: \"\\00b7\"; padding: 0 .5ex}\n",
              "</style>\n",
              "<ol class=list-inline><li>'嚴重'</li><li>'特殊'</li><li>'傳染性肺炎'</li><li>'疫情'</li><li>'持續'</li><li>'全球'</li><li>'蔓延'</li><li>'已'</li><li>'造成'</li><li>'三千多萬'</li><li>'感染'</li><li>'死亡數'</li><li>'破'</li><li>'百萬'</li><li>'歐美'</li><li>'醫療體系'</li><li>'幾近'</li><li>'崩潰'</li><li>'各種'</li><li>'動'</li><li>'限制'</li><li>'對於'</li><li>'各國'</li><li>'經濟'</li><li>'有'</li><li>'莫'</li><li>'衝擊'</li><li>'然台灣'</li><li>'未實'</li><li>'規模'</li><li>'封鎖'</li><li>'動'</li><li>'維持'</li><li>'正常'</li><li>'上班'</li><li>'上課'</li><li>'各種'</li><li>'經濟'</li><li>'活動'</li><li>'至今'</li><li>'無'</li><li>'規模'</li><li>'疫情'</li><li>'爆發'</li><li>'醫療體系'</li><li>'仍'</li><li>'能'</li><li>'正常'</li><li>'提供'</li><li>'民眾'</li><li>'服務'</li><li>'顯台灣'</li><li>'防疫'</li><li>'政策'</li><li>'正確'</li><li>'有效'</li><li>'獲得'</li><li>'世界'</li><li>'各國'</li><li>'度'</li><li>'肯定'</li><li>'國家'</li><li>'衛'</li><li>'研究院'</li><li>'群體'</li><li>'健康'</li><li>'科學'</li><li>'研究所'</li><li>'感染'</li><li>'症'</li><li>'疫苗'</li><li>'研究所'</li><li>'合作'</li><li>'利'</li><li>'真實'</li><li>'數據'</li><li>'數學模型'</li><li>'證實'</li><li>'良好'</li><li>'邊境'</li><li>'管控'</li><li>'詳盡'</li><li>'疫情'</li><li>'調查'</li><li>'確實'</li><li>'隔離'</li><li>'檢疫'</li><li>'以及'</li><li>'民眾'</li><li>'遵'</li><li>'防疫措施'</li><li>'為'</li><li>'台灣'</li><li>'抗疫'</li><li>'四柱'</li><li>'台灣'</li><li>'對'</li><li>'世界'</li><li>'各國'</li><li>'提供'</li><li>'各項'</li><li>'協助'</li><li>'經驗'</li><li>'分享'</li><li>'期望'</li><li>'幫助'</li><li>'各國'</li><li>'盡快'</li><li>'從'</li><li>'疫情'</li><li>'陰霾'</li><li>'中出'</li></ol>\n"
            ]
          },
          "metadata": {
            "tags": []
          }
        }
      ]
    },
    {
      "cell_type": "code",
      "metadata": {
        "id": "T2hf8BqflSuX"
      },
      "source": [
        "txt_freq <-freq(seg_words)"
      ],
      "execution_count": 65,
      "outputs": []
    },
    {
      "cell_type": "code",
      "metadata": {
        "id": "mYTV8-_Mmzd4"
      },
      "source": [
        "txt_freq <-arrange(txt_freq,desc(freq))"
      ],
      "execution_count": 66,
      "outputs": []
    },
    {
      "cell_type": "code",
      "metadata": {
        "id": "ML9ARWUam9pG",
        "outputId": "51987d78-b9d8-40d5-dd57-5bb0c0e8232f",
        "colab": {
          "base_uri": "https://localhost:8080/",
          "height": 221
        }
      },
      "source": [
        "head(txt_freq)"
      ],
      "execution_count": 67,
      "outputs": [
        {
          "output_type": "display_data",
          "data": {
            "text/plain": [
              "  char   freq\n",
              "1 各國   4   \n",
              "2 疫情   4   \n",
              "3 各種   2   \n",
              "4 動     2   \n",
              "5 規模   2   \n",
              "6 研究所 2   "
            ],
            "text/latex": "A data.frame: 6 × 2\n\\begin{tabular}{r|ll}\n  & char & freq\\\\\n  & <chr> & <dbl>\\\\\n\\hline\n\t1 & 各國   & 4\\\\\n\t2 & 疫情   & 4\\\\\n\t3 & 各種   & 2\\\\\n\t4 & 動     & 2\\\\\n\t5 & 規模   & 2\\\\\n\t6 & 研究所 & 2\\\\\n\\end{tabular}\n",
            "text/markdown": "\nA data.frame: 6 × 2\n\n| <!--/--> | char &lt;chr&gt; | freq &lt;dbl&gt; |\n|---|---|---|\n| 1 | 各國   | 4 |\n| 2 | 疫情   | 4 |\n| 3 | 各種   | 2 |\n| 4 | 動     | 2 |\n| 5 | 規模   | 2 |\n| 6 | 研究所 | 2 |\n\n",
            "text/html": [
              "<table>\n",
              "<caption>A data.frame: 6 × 2</caption>\n",
              "<thead>\n",
              "\t<tr><th></th><th scope=col>char</th><th scope=col>freq</th></tr>\n",
              "\t<tr><th></th><th scope=col>&lt;chr&gt;</th><th scope=col>&lt;dbl&gt;</th></tr>\n",
              "</thead>\n",
              "<tbody>\n",
              "\t<tr><th scope=row>1</th><td>各國  </td><td>4</td></tr>\n",
              "\t<tr><th scope=row>2</th><td>疫情  </td><td>4</td></tr>\n",
              "\t<tr><th scope=row>3</th><td>各種  </td><td>2</td></tr>\n",
              "\t<tr><th scope=row>4</th><td>動    </td><td>2</td></tr>\n",
              "\t<tr><th scope=row>5</th><td>規模  </td><td>2</td></tr>\n",
              "\t<tr><th scope=row>6</th><td>研究所</td><td>2</td></tr>\n",
              "</tbody>\n",
              "</table>\n"
            ]
          },
          "metadata": {
            "tags": []
          }
        }
      ]
    },
    {
      "cell_type": "code",
      "metadata": {
        "id": "c65PLGVvnBQ9",
        "outputId": "6fd2609d-4f00-4aa3-e0f7-af35f048cca6",
        "colab": {
          "base_uri": "https://localhost:8080/"
        }
      },
      "source": [
        "install.packages(\"showtext\")"
      ],
      "execution_count": 68,
      "outputs": [
        {
          "output_type": "stream",
          "text": [
            "Installing package into ‘/usr/local/lib/R/site-library’\n",
            "(as ‘lib’ is unspecified)\n",
            "\n",
            "also installing the dependencies ‘sysfonts’, ‘showtextdb’\n",
            "\n",
            "\n"
          ],
          "name": "stderr"
        }
      ]
    },
    {
      "cell_type": "code",
      "metadata": {
        "id": "_wI6o2VlnvyP",
        "outputId": "9384ad86-10aa-4ca2-ae8c-700716e20b0c",
        "colab": {
          "base_uri": "https://localhost:8080/"
        }
      },
      "source": [
        "library(showtext)"
      ],
      "execution_count": 69,
      "outputs": [
        {
          "output_type": "stream",
          "text": [
            "Loading required package: sysfonts\n",
            "\n",
            "Loading required package: showtextdb\n",
            "\n"
          ],
          "name": "stderr"
        }
      ]
    },
    {
      "cell_type": "code",
      "metadata": {
        "id": "gDP9D0uDnxZ-",
        "outputId": "29924fba-a757-4b0b-d3c1-a0da19c4367f",
        "colab": {
          "base_uri": "https://localhost:8080/"
        }
      },
      "source": [
        "showtext.auto(enable = TRUE)"
      ],
      "execution_count": 70,
      "outputs": [
        {
          "output_type": "stream",
          "text": [
            "'showtext.auto()' is now renamed to 'showtext_auto()'\n",
            "The old version still works, but consider using the new function in future code\n",
            "\n"
          ],
          "name": "stderr"
        }
      ]
    },
    {
      "cell_type": "code",
      "metadata": {
        "id": "cUrUPuuBnzze"
      },
      "source": [
        "par(family=(\"Microsoft YaHei\"))"
      ],
      "execution_count": 72,
      "outputs": []
    },
    {
      "cell_type": "code",
      "metadata": {
        "id": "YOk3eJ1zn_Xl",
        "outputId": "300f1a02-a3f2-4c83-bb0b-12a36d9976c0",
        "colab": {
          "base_uri": "https://localhost:8080/",
          "height": 437
        }
      },
      "source": [
        "wordcloud(txt_freq$char, txt_freq$freq, min.freq =2 ,random.order = F,\n",
        "ordered.colors=F ,colors = rainbow(nrow(txt_freq)) )"
      ],
      "execution_count": 73,
      "outputs": [
        {
          "output_type": "display_data",
          "data": {
            "image/png": "[encoded data removed]",
            "text/plain": [
              "plot without title"
            ]
          },
          "metadata": {
            "tags": [],
            "image/png": {
              "width": 420,
              "height": 420
            }
          }
        }
      ]
    }
  ]
}